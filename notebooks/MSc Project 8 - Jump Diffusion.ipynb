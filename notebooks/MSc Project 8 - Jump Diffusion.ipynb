{
 "cells": [
  {
   "cell_type": "markdown",
   "metadata": {},
   "source": [
    "# Numerical Methods for Jump Diffusions\n",
    "\n",
    "Click here for an interactive version of this notebook:-\n",
    "[![Binder](https://mybinder.org/badge.svg)](https://mybinder.org/v2/gh/pjohno/MSc-Math-Finance-2018/master?filepath=notebooks%2FMSc%20Project%208%20-%20Jump%20Diffusion.ipynb)\n",
    "\n",
    "\n",
    "Here we solve the problem for option pricing with jump diffusions. Assume that the risk adjusted stock price follows the SDE\n",
    "$$\n",
    "\\frac{dS}{S} = (r-d-\\lambda \\kappa) dt + \\sigma dW + (\\eta -1 ) dq\n",
    "$$\n",
    "where \n",
    "\n",
    "- $r$ is the risk free interest rate\n",
    "- $d$ is the dividend yield\n",
    "- $(r-d-\\lambda \\kappa)$ is the risk adjusted drift rate\n",
    "- $\\sigma$ is the volatility\n",
    "- $dq$ is a Poisson process and $(\\eta -1)$ is the relative size of the jump in $S$\n",
    "- $\\lambda$ is the intensity rate of jumps, so that $\\lambda dt$ is the probability of jump happening \n",
    "- $g(\\eta)$ is the probability density function for the size of the jump\n",
    "- $\\kappa = \\int_0^\\infty (\\eta-1)g(\\eta) d\\eta$ is the expected relative size of the jump, so that $$\\text{E}\\left[(\\eta-1)dq\\right]-\\lambda\\kappa dt =0$$\n",
    "\n",
    "Then contingent claims $V$ written on the asset $S$ can be priced from the following equation\n",
    "$$\n",
    "\\frac{\\partial V}{\\partial t} + \\frac12 \\sigma^2 S^2 \\frac{\\partial^2 V}{\\partial S^2} +\n",
    "(r-d-\\lambda\\kappa)S \\frac{\\partial V}{\\partial S} - (r+\\lambda)V + \\lambda \\int_0^\\infty g(\\eta) V(\\eta S,t) d\\eta = 0\n",
    "$$\n",
    "\n",
    "Assume that the state space is discretised with a standard fixed spaced grid, so that\n",
    "$$\n",
    "S_j = j\\Delta S\n",
    "$$\n",
    "and\n",
    "$$\n",
    "t^i = i\\Delta t .\n",
    "$$\n",
    "\n",
    "We solve this problem using a simple implicit-explicit scheme to take care of the jumps. We assume that the jump integration term can be calculated using a trapezium rule, so that\n",
    "$$\n",
    "J(S_j,t^i) = \\int_0^\\infty g(\\eta) V(\\eta S_j,t^i) d\\eta \\approx \\sum_k g\\left(S_k/S_j+\\frac12 \\Delta S/S_j\\right) \\frac12 (v_k^i+v_{k+1}^i)\\Delta S \n",
    "$$\n",
    "where\n",
    "$$\n",
    "V(\\eta_k S_j , t^i ) = v_k^i \\quad \\text{ and } \\quad \\eta_k = \\frac{S_k}{S_j} .\n",
    "$$"
   ]
  },
  {
   "cell_type": "markdown",
   "metadata": {},
   "source": [
    "We write down an implicit scheme for the diffusion part and an explicit scheme for the jump, so that we have to solve\n",
    "\n",
    "$$\n",
    "a_j v^i_{j-1} +b_j v^i_j + c_j v^i_{j+1}= d_j  \n",
    "$$\n",
    "\n",
    "where the coefficients are\n",
    "$$\n",
    "a_j = \\frac12\\sigma^2j^2 -  \\frac12(r-d-\\lambda\\kappa)j\n",
    "$$ \n",
    "$$\n",
    "b_j = -\\sigma^2j^2-\\frac{1}{dt};\n",
    "$$ \n",
    "$$\n",
    "c_j = \\frac12\\sigma^2j^2 + \\frac12(r-d-\\lambda\\kappa)j\n",
    "$$ \n",
    "and \n",
    "$$\n",
    "d_j = -\\frac{v_j^{i+1}}{dt} - \\lambda J(S_j,t^{i+1})\n",
    "$$ "
   ]
  },
  {
   "cell_type": "markdown",
   "metadata": {},
   "source": [
    "## Example: d'Halluin et al (2005)\n",
    "\n",
    "In the paper they choose a log-normal jump distribution of the form\n",
    "$$\n",
    "g(\\eta;\\mu,\\gamma) = \\frac{1}{\\left(\\sqrt{2\\pi}\\right)\\gamma\\eta}\\exp\\left(-\\frac{\\ln(\\eta)-\\mu}{2\\gamma^2}\\right)\n",
    "$$\n",
    "and set\n",
    "$$\n",
    "S_0=100, \\quad X=100, \\quad  T=0.25, \\quad r=0.05, \\quad d=0, \\quad \\sigma=0.15\n",
    "$$\n",
    "and\n",
    "$$\n",
    "\\lambda=0.1, \\quad \\gamma=0.45\\quad \\mu = -0.9 ~ .\n",
    "$$"
   ]
  },
  {
   "cell_type": "markdown",
   "metadata": {},
   "source": [
    "Include standard libraries"
   ]
  },
  {
   "cell_type": "code",
   "execution_count": 1,
   "metadata": {},
   "outputs": [],
   "source": [
    "#include \"msc_project_8.hpp\""
   ]
  },
  {
   "cell_type": "markdown",
   "metadata": {},
   "source": [
    "We can use a Thomas algorithm to solve the matrix problem $$A\\mathbf{x} = \\mathbf{b}$$where the matrix $A$ is of tridiagonal type with the diagonals referenced by the vectors $\\mathbf{a}$, $\\mathbf{b}$, $\\mathbf{c}$ and the right hand side is $\\mathbf{d}$. See [here](https://github.com/pjohno/MATH60082/blob/master/src/math60082_tridag.cpp) for an implementation."
   ]
  },
  {
   "cell_type": "markdown",
   "metadata": {},
   "source": [
    "Here we write a function to calculate the jump distribution. We input the value of $S_j$ along with the entire vectors of $S$ and $V$."
   ]
  },
  {
   "cell_type": "code",
   "execution_count": 2,
   "metadata": {},
   "outputs": [],
   "source": [
    "// function to calculate jump integral term\n",
    "double trapeziumRule(double Sj,const std::vector<double> &S,\n",
    "                     const std::vector<double> &v,double J_gamma,double J_mu)\n",
    "{\n",
    "    double sum=0.;\n",
    "    for(int k=0;k<S.size()-1;k++)\n",
    "    {\n",
    "        double dS = (S[k+1]-S[k]);\n",
    "        // value of S at mid point\n",
    "        double Smid = 0.5*(S[k+1]+S[k]);\n",
    "        double mu = log(Smid/Sj)-J_mu;\n",
    "        double sig = 2*J_gamma*J_gamma;\n",
    "        sum += dS*(v[k+1]+v[k])*exp((-mu*mu)/sig)/(sqrt(sig*M_PI)*Smid);\n",
    "    }\n",
    "    return 0.5*sum;\n",
    "}"
   ]
  },
  {
   "cell_type": "markdown",
   "metadata": {},
   "source": [
    "Now declare all storage for variables required"
   ]
  },
  {
   "cell_type": "code",
   "execution_count": 3,
   "metadata": {},
   "outputs": [],
   "source": [
    "// declare and initialise Black Scholes parameters\n",
    "double S0,X,T,r,sigma;\n",
    "// declare jump stuff\n",
    "double J_lambda,J_gamma;\n",
    "double J_mu;\n",
    "    \n",
    "// declare and initialise grid paramaters \n",
    "int iMax,jMax;\n",
    "double S_max;\n",
    "double dS;\n",
    "double dt;\n",
    "std::vector<double> S,V;"
   ]
  },
  {
   "cell_type": "markdown",
   "metadata": {},
   "source": [
    "and then assign the initial values"
   ]
  },
  {
   "cell_type": "code",
   "execution_count": 4,
   "metadata": {},
   "outputs": [],
   "source": [
    "// declare and initialise Black Scholes parameters\n",
    "S0=100;X=100.;T=0.25;r=0.05;sigma=0.15;\n",
    "// declare jump stuff\n",
    "J_lambda=0.1;J_gamma=0.45;J_mu = -0.9;\n",
    "    \n",
    "// initialise grid paramaters \n",
    "iMax=100,jMax=400;\n",
    "// initialise local variables (ds,dt)\n",
    "S_max=5*X;\n",
    "dS=S_max/jMax;\n",
    "dt=T/iMax;\n",
    "// create storage for the stock price and option price (old and new)\n",
    "S.resize(jMax+1);V.resize(jMax+1);\n",
    "// setup and initialise the stock price \n",
    "for(int j=0;j<=jMax;j++)\n",
    "{\n",
    "    S[j] = j*dS;\n",
    "}\n",
    "// setup and initialise the final conditions on the option price \n",
    "for(int j=0;j<=jMax;j++)\n",
    "{\n",
    "    V[j] = std::max(X-S[j],0.);\n",
    "    //cout << iMax << \" \" << j << \" \" << S[j] << \" \" << V[j] << endl;\n",
    "}\n"
   ]
  },
  {
   "cell_type": "markdown",
   "metadata": {},
   "source": [
    "Then we can start the timestepping algorithm. Following standard form we set up the matrix equations and then solve with the tridag function."
   ]
  },
  {
   "cell_type": "code",
   "execution_count": 5,
   "metadata": {},
   "outputs": [],
   "source": [
    "// start looping through time levels\n",
    "for(int i=iMax-1;i>=0;i--)\n",
    "{\n",
    "    // declare vectors for matrix equations\n",
    "    std::vector<double> a(jMax+1),b(jMax+1),c(jMax+1),d(jMax+1);\n",
    "    // set up matrix equations a[j]=\n",
    "    a[0] = 0.;b[0] = 1.;c[0] = 0.;\n",
    "    d[0] = X*exp(-r*(iMax-i)*dt);\n",
    "    for(int j=1;j<jMax;j++)\n",
    "    {\n",
    "        // calculate jump components\n",
    "        double jumpDrift = J_lambda*(exp(J_mu+J_gamma*J_gamma/2.)-1.);\n",
    "        double J_integral_Term = trapeziumRule(S[j],S,V,J_gamma,J_mu);\n",
    "        \n",
    "        // set up scheme\n",
    "        a[j] = 0.5*(sigma*sigma*j*j-(r-jumpDrift)*j);\n",
    "        b[j] =-sigma*sigma*j*j - (r+J_lambda) - 1./dt;\n",
    "        c[j] = 0.5*(sigma*sigma*j*j+(r-jumpDrift)*j);\n",
    "        \n",
    "        // set up right hand side\n",
    "        d[j] = -V[j]/dt - J_lambda * J_integral_Term;\n",
    "    }\n",
    "    a[jMax] = 0.;b[jMax] = 1.;c[jMax] = 0.;\n",
    "    d[jMax] = 0.;\n",
    "    // solve with Thomas \n",
    "    thomasSolve(a,b,c,d);\n",
    "    // set old=new\n",
    "    V=d;\n",
    "}\n",
    "// finish looping through time levels\n"
   ]
  },
  {
   "cell_type": "markdown",
   "metadata": {},
   "source": [
    "Finally we can plot out the results"
   ]
  },
  {
   "cell_type": "code",
   "execution_count": 6,
   "metadata": {},
   "outputs": [
    {
     "data": {
      "image/png": "[encoded data removed]"
     },
     "execution_count": 6,
     "metadata": {},
     "output_type": "execute_result"
    }
   ],
   "source": [
    "// plot the figure\n",
    "{\n",
    "    // add labels on the x/y axis\n",
    "    std::stringstream ss(\"set xlabel \\\"S\\\"\\n set ylabel \\\"V(S)\\\"\\n\"\n",
    "                        \"set xrange[50:150]\");\n",
    "    // put the plot in figure1\n",
    "    figure = G.plotData(S,V,&ss);\n",
    "}\n",
    "// show figure\n",
    "figure"
   ]
  },
  {
   "cell_type": "markdown",
   "metadata": {},
   "source": [
    "See the full code solution on github [click here](https://github.com/pjohno/MSc-Math-Finance-2018/blob/master/main/project-8-jump-diffusion.cpp)."
   ]
  }
 ],
 "metadata": {
  "kernelspec": {
   "display_name": "C++14",
   "language": "C++14",
   "name": "xcpp14"
  },
  "language_info": {
   "codemirror_mode": "text/x-c++src",
   "file_extension": ".cpp",
   "mimetype": "text/x-c++src",
   "name": "c++",
   "version": "14"
  }
 },
 "nbformat": 4,
 "nbformat_minor": 2
}
