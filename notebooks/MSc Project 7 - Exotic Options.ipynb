{
 "cells": [
  {
   "cell_type": "markdown",
   "metadata": {},
   "source": [
    "# The QUAD method\n",
    "\n",
    "Click here for an interactive version of this notebook:-\n",
    "[![Binder](https://mybinder.org/badge.svg)](https://mybinder.org/v2/gh/pjohno/MSc-Math-Finance-2018/master?filepath=notebooks%2FMSc%20Project%207%20-%20Exotic%20Options.ipynb)\n",
    "\n",
    "\n",
    "Consider the well-known Black and Scholes (1973) partial differential equation for an option with an underlying\n",
    "asset following geometric Brownian motion:\n",
    "$$\n",
    "\\frac{\\partial{V}}{\\partial{t}} + \\frac{1}{2} {\\sigma}^2 S^2\n",
    "\\frac{\\partial {^2V}}{\\partial{S^2}} + (r-D_c) S\n",
    "\\frac{\\partial{V}}{\\partial{S}} - rV = 0,\n",
    "$$\n",
    "where $V(S,t)$ is the price of the derivative product, $S$ the\n",
    "current value of the underlying asset, $t$ is time,  $T$ is the time to maturity\n",
    " $r$ the risk-free interest rate, $\\sigma$ the\n",
    "volatility of the underlying asset and $X$ is the exercise price of the option. \n",
    "$D_c$ is a continuous dividend yield which could, for example, be the foreign \n",
    "interest rate in a foreign exchange option.\n",
    "\n",
    "Next make the following standard\n",
    "transformations                \n",
    "$$\n",
    "x = log(S_0),\n",
    "$$\n",
    "$$\n",
    "y = log(S_{T}).\n",
    "$$\n",
    "The final conditions for a European option expiring at time $T$\n",
    "with  $V(y,T)$ are transformed in straightforward fashion; e.g. \n",
    "the payoff for a call option $V(S,T)  = \\max(S_{T}-X,0)$ becomes\n",
    "$$\n",
    "\\quad V(y,T) = \\max(e^y-X,0). \n",
    "$$\n",
    "The value of \n",
    "the option at time $t=0$ on an underlying asset  $S_0$  \n",
    "has an  exact solution given by \n",
    "$$\n",
    "V(x,0) = A (x) \\int_{-\\infty}^{\\infty} B(x,y)V(y,T) \\, dy,\n",
    "$$\n",
    "where, \n",
    "$$\n",
    "A(x) = \\frac{1}{\\sqrt{2\\sigma^2\\pi T}} e^{-\\frac12 kx-\\frac18 \n",
    "\\sigma^2k^2 T - r T},\n",
    "$$\n",
    "and\n",
    "$$\n",
    "B(x,y) = e^{-\\frac{(x-y)^2}{2\\sigma^2 T} + \\frac12 ky}\n",
    "$$\n",
    "and\n",
    "$$\n",
    "k = \\frac{2(r-D_c)}{{\\sigma}^2} -1.\n",
    "$$\n",
    "\n",
    "We solve this problem by setting up a class structure containing all the relavent functions, which we will call QUAD. This will contain the functions $A$, $B$, a method for integrating and a method to return the value $V(x,0)$. Since integrations must work on fixed spaced grids, we also provide a function to do this. First include libraries:"
   ]
  },
  {
   "cell_type": "code",
   "execution_count": 1,
   "metadata": {},
   "outputs": [],
   "source": [
    "#include \"msc_project_7.hpp\""
   ]
  },
  {
   "cell_type": "markdown",
   "metadata": {},
   "source": [
    "Now include a structure to hold the functions. We use the C++11 functional library to allow the payoff of the function to be specified by the user. This means the function can be anything we like. Numerically we also will have to bound the intergration, so we need a way to input these values. In fact the integration will look like\n",
    "$$\n",
    "V(x,0) = A (x) \\int_\\text{yMin}^\\text{yMax} B(x,y)V(y,T) \\, dy,\n",
    "$$\n",
    "and by using this approximation we are assuming that the payoff is zero for $y<\\text{yMin}$ and $y>\\text{yMax}$."
   ]
  },
  {
   "cell_type": "markdown",
   "metadata": {},
   "source": [
    "Input the function $A$ as given by the formula:"
   ]
  },
  {
   "cell_type": "code",
   "execution_count": 2,
   "metadata": {},
   "outputs": [],
   "source": [
    "// the function A\n",
    "double A(double x, double r, double sigma, double k, double dt)\n",
    "{\n",
    "    return 1. / sqrt(2 * sigma*sigma*M_PI*dt) * exp(-0.5*k*x - 0.125*sigma*sigma*k*k*dt - r*dt);\n",
    "}"
   ]
  },
  {
   "cell_type": "markdown",
   "metadata": {},
   "source": [
    "Input the function $B$ as given by the formula:"
   ]
  },
  {
   "cell_type": "code",
   "execution_count": 3,
   "metadata": {},
   "outputs": [],
   "source": [
    "// the function B\n",
    "double B(double x, double y, double sigma, double k, double dt)\n",
    "{\n",
    "    return exp(-(x - y)*(x - y) / (2.*sigma*sigma*dt) + 0.5 * k * y);\n",
    "}"
   ]
  },
  {
   "cell_type": "markdown",
   "metadata": {},
   "source": [
    "Here we include a method for integrating a function. We allow the region of integration to be restricted if required for optimisation."
   ]
  },
  {
   "cell_type": "code",
   "execution_count": 4,
   "metadata": {},
   "outputs": [],
   "source": [
    "// integration proceedure: integrate the function f_i at the points y_i, contained in a vector integrand\n",
    "// PLEASE note that here we are assuming that the grid is equally spaced\n",
    "// nDown, nUp reference the subsection of the vector y we wish to integrate over\n",
    "double integrate(int nDown, int nUp,const std::vector<double> &y,const std::vector<double> &integrand)\n",
    "{\n",
    "    double sum, h = (y[nUp] - y[nDown]) / (nUp - nDown);\n",
    "    sum = integrand[nDown];\n",
    "    for (int i = nDown+2; i<nUp; i+=2)\n",
    "    {\n",
    "        sum += 2.*integrand[i];\n",
    "    }\n",
    "    for (int i = nDown+1; i<nUp; i+=2)\n",
    "    {\n",
    "        sum +=  4.*integrand[i];\n",
    "    }\n",
    "    sum += integrand[nUp];\n",
    "    return h / 3.*sum;\n",
    "}"
   ]
  },
  {
   "cell_type": "markdown",
   "metadata": {},
   "source": [
    "Resetting the grid over an interval:"
   ]
  },
  {
   "cell_type": "code",
   "execution_count": 5,
   "metadata": {},
   "outputs": [],
   "source": [
    "// reset, resize and generate new grid with n+1 nodes, equally spaced on the range [min,max]\n",
    "void resetGrid(int n, double min, double max, std::vector<double> &x)\n",
    "{\n",
    "    x.resize(n + 1);\n",
    "    double dx = (max - min) / double(n);\n",
    "    if (n == 0)dx = 0.;\n",
    "    for (uint i = 0; i<x.size(); i++) x[i] = min + i*dx;\n",
    "}"
   ]
  },
  {
   "cell_type": "markdown",
   "metadata": {},
   "source": [
    "Now input the value function. We first set up the grid over the interval by applying a log transform\n",
    "$$\n",
    "x = \\log(S_0)\n",
    "$$\n",
    "and\n",
    "$$\n",
    "y \\in [ \\log(S_\\text{Min}) , \\log (S_\\text{max})] .\n",
    "$$\n",
    "After the variable $k$ is assigned, we can generate values of the integrand, $I_j$\n",
    "$$\n",
    "I_j = B(x,y_j) V(y_j,T) = B(x,y_j) f( e^{y_j} )\n",
    "$$\n",
    "where $f$ is the payoff function.\n",
    "\n",
    "Then the value of the option can be found as\n",
    "$$\n",
    "V(x,0) = A(x) \\frac{\\text{yMax}-\\text{yMin}}{3 n}\\left( I_0 + 2\\sum I_{2j} + 4\\sum I_{2j+1}+ I_n \\right)\n",
    "$$"
   ]
  },
  {
   "cell_type": "code",
   "execution_count": 6,
   "metadata": {},
   "outputs": [],
   "source": [
    "double valueOption(double  S0,double r,double sigma,double T,int n,\n",
    "                   const std::vector<double> &y,const std::vector<double> &payoff_vec)\n",
    "{\n",
    "    // value of x\n",
    "    double x = log(S0);\n",
    "    \n",
    "    // variable k\n",
    "    double k = 2.*r / sigma / sigma - 1.;\n",
    "           \n",
    "    // setup vectors to store option values, and integrand function\n",
    "    // these vectors must be the same size as the y vector\n",
    "    std::vector<double> integrand(y.size());\n",
    "    \n",
    "    for (uint j = 0; j < y.size(); j++)\n",
    "    {\n",
    "        integrand[j] = B( x , y[j] , sigma , k , T ) * payoff_vec[j];\n",
    "    }\n",
    "    // in this example we integrate over the entire range of y, it is possible to select a subrange\n",
    "    return A(x, r, sigma, k, T )*integrate(0, n, y, integrand);\n",
    "      \n",
    "}   "
   ]
  },
  {
   "cell_type": "markdown",
   "metadata": {},
   "source": [
    "Insert some variable for parameters:"
   ]
  },
  {
   "cell_type": "code",
   "execution_count": 7,
   "metadata": {},
   "outputs": [],
   "source": [
    "double  S,X,r,sigma,T;"
   ]
  },
  {
   "cell_type": "markdown",
   "metadata": {},
   "source": [
    "Now calculate the value of a call option. To do this we set up two vectors `y` and `V` to store the grid and payoff at the terminal time."
   ]
  },
  {
   "cell_type": "code",
   "execution_count": 8,
   "metadata": {},
   "outputs": [
    {
     "name": "stdout",
     "output_type": "stream",
     "text": [
      " A call option ...\n",
      "C(100) = 10.9895\n"
     ]
    }
   ],
   "source": [
    "S = 100.; X = 100.; r = 0.06; sigma = 0.2; T = 1.;\n",
    "\n",
    "{\n",
    "    int N=500;\n",
    "    std::cout << \" A call option ...\\n\";\n",
    "    // set y grid up at the final step, using strike price as lower limit\n",
    "    std::vector<double> y(N+1),V(N+1);\n",
    "    resetGrid(N,log(X),log(X*exp(7.5*sigma*sqrt(T))),y);\n",
    "    // assign payoff, since e^y>=X we don't need max function\n",
    "    for(unsigned int i=0;i<y.size();i++)\n",
    "        V[i] = exp(y[i])-X;\n",
    "\n",
    "    // return the value V(x=log(S),0) = A(x)*\\int B(x,y)*V(y,T) dy\n",
    "    double value = valueOption(S,r,sigma,T,N,y,V);\n",
    "    std::cout << \"C(\"<<S<<\") = \" << value << \"\\n\";\n",
    "}"
   ]
  },
  {
   "cell_type": "code",
   "execution_count": 9,
   "metadata": {},
   "outputs": [
    {
     "name": "stdout",
     "output_type": "stream",
     "text": [
      " A put option ...\n",
      "P(100) = 5.166\n"
     ]
    }
   ],
   "source": [
    "{\n",
    "    int N=500;\n",
    "    std::cout << \" A put option ...\\n\";\n",
    "    // set y grid up at the final step, using strike price as lower limit\n",
    "    std::vector<double> y(N+1),V(N+1);\n",
    "    resetGrid(N,log(X*exp(-7.5*sigma*sqrt(T))),log(X),y);\n",
    "    // assign payoff, since e^y>=X we don't need max function\n",
    "    for(unsigned int i=0;i<y.size();i++)\n",
    "        V[i] = X - exp(y[i]);\n",
    "    double value = valueOption(S,r,sigma,T,N,y,V);\n",
    "    std::cout << \"P(\"<<S<<\") = \"<< value << \"\\n\";\n",
    "}"
   ]
  },
  {
   "cell_type": "code",
   "execution_count": 10,
   "metadata": {},
   "outputs": [],
   "source": [
    "double callOption(double  S,double X,double r,double sigma,double T,int N=500,double xi=7.5)\n",
    "{\n",
    "    // set y grid up at the final step, using strike price as lower limit\n",
    "    std::vector<double> y(N+1),V(N+1);\n",
    "    resetGrid(N,log(X),log(X*exp(xi*sigma*sqrt(T))),y);\n",
    "    // assign payoff, since e^y>=X we don't need max function\n",
    "    for(unsigned int i=0;i<y.size();i++)\n",
    "        V[i] = exp(y[i])-X;\n",
    "    \n",
    "    // return the value V(x=log(S),0) = A(x)*\\int B(x,y)*V(y,T) dy\n",
    "    return valueOption(S,r,sigma,T,N,y,V);\n",
    "}"
   ]
  },
  {
   "cell_type": "code",
   "execution_count": 11,
   "metadata": {},
   "outputs": [
    {
     "name": "stdout",
     "output_type": "stream",
     "text": [
      " Examine convergence of a call option using QUAD...\n",
      "\n",
      "|             N|      V(S,0;N)|             R|     conv rate|\n",
      "|--------------|--------------|--------------|--------------|\n",
      "|            10|       11.0476|     0.0995259|      -3.32878|\n",
      "|            20|       10.9919|      -180.377|          -nan|\n",
      "|            40|       10.9897|       24.8224|       4.63357|\n",
      "|            80|       10.9896|       17.0552|       4.09214|\n",
      "|           160|       10.9895|       16.2434|       4.02178|\n",
      "|           320|       10.9895|       16.0597|       4.00538|\n",
      "|           640|       10.9895|       16.0149|       4.00134|\n",
      "|          1280|       10.9895|       16.0037|       4.00033|\n",
      "|          2560|       10.9895|        16.001|       4.00009|\n"
     ]
    }
   ],
   "source": [
    "std::cout << \" Examine convergence of a call option using QUAD...\\n\\n\";\n",
    "tableRow(\"N\",\"V(S,0;N)\",\"R\",\"conv rate\");\n",
    "emptyTableRow(4);\n",
    "double valueOld = 1.,diffOld=1.;\n",
    "int k=2;\n",
    "for(int n=10;n<=5000;n*=k)\n",
    "{\n",
    "    double value = callOption(S,X,r,sigma,T,n);\n",
    "    double diff = value - valueOld;\n",
    "    double R = diffOld/diff;\n",
    "    tableRow( n ,value ,R ,log(R)/log(k));\n",
    "    valueOld = value;\n",
    "    diffOld = diff;\n",
    "}"
   ]
  },
  {
   "cell_type": "markdown",
   "metadata": {},
   "source": [
    "See the full code solution on github [click here](https://github.com/pjohno/MSc-Math-Finance-2018/blob/master/main/project-7-exotic-options.cpp)."
   ]
  }
 ],
 "metadata": {
  "kernelspec": {
   "display_name": "C++14",
   "language": "C++14",
   "name": "xcpp14"
  },
  "language_info": {
   "codemirror_mode": "text/x-c++src",
   "file_extension": ".cpp",
   "mimetype": "text/x-c++src",
   "name": "c++",
   "version": "14"
  }
 },
 "nbformat": 4,
 "nbformat_minor": 2
}
