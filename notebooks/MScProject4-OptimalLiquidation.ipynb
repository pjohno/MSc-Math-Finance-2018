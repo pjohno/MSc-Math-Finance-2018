{
 "cells": [
  {
   "cell_type": "markdown",
   "metadata": {},
   "source": [
    "# Optimal Liquidation of Assets\n",
    "\n",
    "Click here for an interactive version of this notebook:-\n",
    "[![Binder](https://mybinder.org/badge.svg)](https://mybinder.org/v2/gh/pjohno/MSc-Math-Finance-2018/master?filepath=notebooks%2FMSc%20Project%204%20-%20Optimal%20Liquidation.ipynb)\n",
    "\n",
    "Here we follow the Gueant at al. (2013) paper. Their model can be outlined as follows. First assume that the reference price of the asset follows a Brownian motion\n",
    "$$\n",
    "dS = \\mu dt + \\sigma dW\n",
    "$$\n",
    "and assume that a trader tries to sell the asset by posting an ask price $S_a$ on the market, so that\n",
    "$$\n",
    "S_a = S + \\delta.\n",
    "$$\n",
    "Now assume that the trader holds $q_t$ assets at time $t$, and the sale of each asset follows a Poisson process such that\n",
    "$$\n",
    "q_t = q_0 - N_t\n",
    "$$\n",
    "and the arrival rate of jumps $\\lambda$ in the Poisson process depends on the choice of $\\delta$,\n",
    "$$\n",
    "\\lambda(\\delta) = \\exp(-k\\delta),\n",
    "$$\n",
    "so that the higher the ask price the lower the probability of a sale.\n",
    "\n",
    "Then the cash process of the trader evolves as\n",
    "$$\n",
    "dX = (S + \\delta) N_t\n",
    "$$\n",
    "and the trader who maximises their expected utility solves\n",
    "$$\n",
    "\\sup_{\\delta} E\\left[ -\\exp(-\\gamma (X_T - q_T (S-b))) \\right]\n",
    "$$\n",
    "    where $\\gamma$ is their risk aversion, $X_T$ is total cash at maturity, $q_T$ is assets remaining at $T$ that are sold at a discount $(S-b)$.\n",
    "    \n",
    "It turns out that this problem has an analytic solution, which we can find by assuming that the value of the expected utility $u(S,X,q,t)$ can be written as\n",
    "$$\n",
    "u(S,X,q,t) = -\\exp(-\\gamma(x+qS)) w(q,t)^{\\gamma/k} .\n",
    "$$\n",
    "This allows the solution to be found from a series of ODEs,\n",
    "$$\n",
    "\\frac{dw}{dt} = (\\alpha q^2 - \\beta q) w(q,t) - \\eta w(q-1,t)\n",
    "$$\n",
    "with\n",
    "$$\n",
    "w(0,t) =0\n",
    "$$\n",
    "and\n",
    "$$\n",
    "w(q,T) = e^{-kqb}.\n",
    "$$\n",
    "We can solve these ODEs easily using any integrating method we choose."
   ]
  },
  {
   "cell_type": "markdown",
   "metadata": {},
   "source": [
    "Here I've included a library which allows for the addition and scalar multiplication of vectors. This allows for integration formula to be written in template form with ease. I can provide a c++ file with everything in [click here](https://github.com/pjohno/MSc-Math-Finance-2018/tree/master/main/project-4-optimal-liquidation-all-in-one.cpp), which should produce a results file for the graph below."
   ]
  },
  {
   "cell_type": "markdown",
   "metadata": {},
   "source": [
    "To start the code we include a few libraries:"
   ]
  },
  {
   "cell_type": "code",
   "execution_count": 1,
   "metadata": {},
   "outputs": [],
   "source": [
    "#include \"msc_project_4.hpp\""
   ]
  },
  {
   "cell_type": "markdown",
   "metadata": {},
   "source": [
    "Next we declare the parameters in the problem. We are going to solve for $w(q,t)$ and $\\delta(q,t)$ and we are going to store values for all times and $q$ values. To make things easier we are going to reference $q$ and $t$ as\n",
    "$$\n",
    "w(q,t^i) = \\omega_{i,q} \n",
    "$$\n",
    "which in code is `omega[i][q]` and\n",
    "$$\n",
    "\\delta(q,t^i) = \\delta_{i,q} \n",
    "$$\n",
    "in code `delta[i][q]`. This makes the integration at each time easier to handle. We split the total time $T$ into $n$ observations, but allow later the possibility that the integration is over multiple steps inbetween.\n"
   ]
  },
  {
   "cell_type": "code",
   "execution_count": 2,
   "metadata": {},
   "outputs": [],
   "source": [
    "// ONLY RUN THIS CELL ONCE AT THE START\n",
    "// Model parameters\n",
    "int qMax;\n",
    "double mu,sigma,A,k,Gamma,b,T;\n",
    "  \n",
    "// number of time observations\n",
    "int n;\n",
    "// time step\n",
    "double dT = T/n;\n",
    "// store the value of the omega and delta at each time step and q value\n",
    "std::vector<MVector> omega,delta;"
   ]
  },
  {
   "cell_type": "markdown",
   "metadata": {},
   "source": [
    "Now we set up the parameters to reflect the choices in figure 1 of the paper"
   ]
  },
  {
   "cell_type": "code",
   "execution_count": 3,
   "metadata": {},
   "outputs": [],
   "source": [
    "// can change any of these parameters and get the results\n",
    "qMax=6;\n",
    "mu=0.0;\n",
    "sigma=0.3;\n",
    "A = 0.1;\n",
    "k=0.3;\n",
    "Gamma = 0.05;\n",
    "b=3;\n",
    "T= 300;\n",
    "n=100;\n",
    "// time step\n",
    "dT = T/n;\n",
    "omega.clear();\n",
    "omega.resize(n+1,MVector(qMax+1));\n",
    "delta.clear();\n",
    "delta.resize(n+1,MVector(qMax+1));"
   ]
  },
  {
   "cell_type": "markdown",
   "metadata": {},
   "source": [
    "and set up the initial conditions"
   ]
  },
  {
   "cell_type": "code",
   "execution_count": 4,
   "metadata": {},
   "outputs": [],
   "source": [
    "// initialise the solution at t=T\n",
    "  for(int q=0;q<=qMax;q++)\n",
    "  {\n",
    "    // from initial condition\n",
    "    omega[n][q] = exp(-k*q*b);\n",
    "    // from formula for delta\n",
    "    if(q>0)\n",
    "      delta[n][q] = 1/k*log(omega[n][q]/omega[n][q-1]) + 1/Gamma*log(1+Gamma/k);\n",
    "    else\n",
    "      delta[n][q] = 0.;\n",
    "  }"
   ]
  },
  {
   "cell_type": "markdown",
   "metadata": {},
   "source": [
    "Next we initiate the integration. We do this by assuming we solve a problem of the form\n",
    "$$\n",
    "\\frac{d \\mathbf{w}}{dt} = \\mathbf{F}(\\mathbf{w},t)\n",
    "$$\n",
    "where $\\mathbf{w}$ is a vector (in $\\mathbb{R}^q$ space)."
   ]
  },
  {
   "cell_type": "code",
   "execution_count": 5,
   "metadata": {},
   "outputs": [],
   "source": [
    "// now use a numerical integration to find the value at T_i given the value at T_{i+1}\n",
    "  for(int i = n-1 ; i>=0 ; i--)\n",
    "  {\n",
    "    // some constants in the equation\n",
    "    double alpha = k/2.*Gamma*sigma*sigma;\n",
    "    double beta = k*mu;\n",
    "    double eta = A*pow(1+Gamma/k,-(1+k/Gamma));\n",
    "    // now solve \n",
    "    //   dw(q,t)/dt = (alpha q^2 - beta q) w(q,t) - eta w(q-1,t)\n",
    "    // with initial condition \n",
    "    //   w(q,T_i) = omega(q,T_i)\n",
    "    // so that\n",
    "    //   omega(q,T_{i-1}) = w(q,T_{i-1})\n",
    "    omega[i] = RK4MethodTemplate(100,i*dT,(i-1)*dT,omega[i+1],\n",
    "         [&]\n",
    "         (const  MVector &w,double t)\n",
    "         {\n",
    "           MVector F(qMax+1);\n",
    "           F[0] = 0.;\n",
    "           for(int q=1;q<=qMax;q++)\n",
    "             F[q] = (alpha*q*q - beta*q)*w[q] - eta*w[q-1];\n",
    "           return F;\n",
    "         }\n",
    "    );\n",
    "    \n",
    "    // We can then calculate the value of the optimal ask price\n",
    "    for(int q=1;q<=qMax;q++)\n",
    "      delta[i][q] = 1/k*log(omega[i][q]/omega[i][q-1]) + 1/Gamma*log(1+Gamma/k);\n",
    "    delta[i][0] = 0.;\n",
    "  }"
   ]
  },
  {
   "cell_type": "markdown",
   "metadata": {},
   "source": [
    "Now store the values we want to plot in `GPLT::x` and `GPLT::z`"
   ]
  },
  {
   "cell_type": "code",
   "execution_count": 6,
   "metadata": {},
   "outputs": [],
   "source": [
    "using namespace MATH60082;\n",
    "// first clear and resize x and y\n",
    "{\n",
    "    x.clear();\n",
    "    x.resize(n+1);\n",
    "    z.clear();\n",
    "    z.resize(qMax,std::vector<double>(n+1));\n",
    "    // store values of x_i = t_i\n",
    "    // and y_{j,i} = \\delta(q_j,t_i)\n",
    "    for(int i = 0 ; i<=n ; i++)\n",
    "    {\n",
    "       x[i] = i*dT;\n",
    "       for(int q=1;q<=qMax;q++)\n",
    "           z[q-1][i] = delta[i][q];\n",
    "    }\n",
    "}"
   ]
  },
  {
   "cell_type": "markdown",
   "metadata": {},
   "source": [
    "and plot the figure as given in the paper"
   ]
  },
  {
   "cell_type": "code",
   "execution_count": 7,
   "metadata": {},
   "outputs": [
    {
     "data": {
      "image/png": "[encoded data removed]"
     },
     "execution_count": 7,
     "metadata": {},
     "output_type": "execute_result"
    }
   ],
   "source": [
    "// plot the figure\n",
    "{\n",
    "    // add labels on the x/y axis\n",
    "    std::stringstream ss(\"set xlabel \\\"t\\\"\\n set ylabel \\\"delta\\\"\");\n",
    "    // put the plot in figure1\n",
    "    figure = G.plotData(x,z,&ss);\n",
    "}\n",
    "// show figure\n",
    "figure"
   ]
  },
  {
   "cell_type": "markdown",
   "metadata": {},
   "source": [
    "See the full code solution on github [click here](https://github.com/pjohno/MSc-Math-Finance-2018/blob/master/main/project-4-optimal-liquidation-all-in-one.cpp)."
   ]
  }
 ],
 "metadata": {
  "kernelspec": {
   "display_name": "C++14",
   "language": "C++14",
   "name": "xcpp14"
  },
  "language_info": {
   "codemirror_mode": "text/x-c++src",
   "file_extension": ".cpp",
   "mimetype": "text/x-c++src",
   "name": "c++",
   "version": "14"
  }
 },
 "nbformat": 4,
 "nbformat_minor": 2
}
