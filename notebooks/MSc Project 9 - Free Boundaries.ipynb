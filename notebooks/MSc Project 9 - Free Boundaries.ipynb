{
 "cells": [
  {
   "cell_type": "markdown",
   "metadata": {},
   "source": [
    "# Perpetual American Options\n",
    "\n",
    "Click here for an interactive version of this notebook:-\n",
    "[![Binder](https://mybinder.org/badge.svg)](https://mybinder.org/v2/gh/pjohno/MSc-Math-Finance-2018/master?filepath=notebooks%2FMSc%20Project%209%20-%20Free%20Boundaries.ipynb)\n",
    "\n",
    "\n",
    "Consider the well-known Black and Scholes (1973) partial differential equation for an option with an underlying\n",
    "asset following geometric Brownian motion:\n",
    "$$\n",
    "\\frac{\\partial{V}}{\\partial{t}} + \\frac{1}{2} {\\sigma}^2 S^2\n",
    "\\frac{\\partial {^2V}}{\\partial{S^2}} + (r-D_c) S\n",
    "\\frac{\\partial{V}}{\\partial{S}} - rV = 0,\n",
    "$$\n",
    "where $V(S,t)$ is the price of the derivative product, $S$ the\n",
    "current value of the underlying asset, $t$ is time,  $T$ is the time to maturity\n",
    " $r$ the risk-free interest rate, $\\sigma$ the\n",
    "volatility of the underlying asset and $X$ is the exercise price of the option. \n",
    "$D_c$ is a continuous dividend yield which could, for example, be the foreign \n",
    "interest rate in a foreign exchange option.\n",
    "\n",
    "## Perpetual American Put Option\n",
    "\n",
    "Consider a perpetual American put option with the conditions\n",
    "$$\n",
    "V(S,T;T) = \\max( X - S ,0)\n",
    "$$\n",
    "$$\n",
    "V(S,t,T) \\geq X - S \\quad \\forall t<T\n",
    "$$\n",
    "and we look at the limit for large maturities, so that\n",
    "$$\n",
    "\\lim_{T\\rightarrow\\infty} V(S,t;T) = V(S) .\n",
    "$$\n",
    "\n",
    "Then a solution can be found of the form \n",
    "$$\n",
    "V(S) = A S^{\\alpha^-} + B S^{\\alpha^+}\n",
    "$$\n",
    "where $\\alpha^+_-$ denotes the solution to the determinant equation\n",
    "$$\n",
    "\\frac12 \\alpha(\\alpha-1) + r\\alpha - r = 0 .\n",
    "$$\n",
    "\n",
    "\n",
    "The following conditions can be used to derive $A$ and $B$:\n",
    "$$\n",
    "V(S_f) = X - S_f\n",
    "$$\n",
    "$$\n",
    "V'(S_f) = - 1\n",
    "$$\n",
    "$$\n",
    "V\\rightarrow 0 \\text{ as } S\\rightarrow \\infty\n",
    "$$\n",
    "\n",
    "## Perpetual American Call Option\n",
    "\n",
    "We seek a solution of the form \n",
    "$$\n",
    "V(S) = A S^{\\alpha^-} + B S^{\\alpha^+}\n",
    "$$\n",
    "with the following conditions can be used to derive $A$ and $B$:\n",
    "$$\n",
    "V(S_f) = S_f - X\n",
    "$$\n",
    "$$\n",
    "V'(S_f) = 1\n",
    "$$\n",
    "$$\n",
    "V \\rightarrow 0 \\text{ as } S\\rightarrow 0\n",
    "$$"
   ]
  },
  {
   "cell_type": "code",
   "execution_count": 1,
   "metadata": {},
   "outputs": [],
   "source": [
    "#include \"msc_project_9.hpp\""
   ]
  },
  {
   "cell_type": "markdown",
   "metadata": {},
   "source": [
    "Create a class for the perpetual put and call option. The idea is that the user supplies parameters to the class, upon which $A$ and $S_f$ are calculated."
   ]
  },
  {
   "cell_type": "code",
   "execution_count": 2,
   "metadata": {},
   "outputs": [],
   "source": [
    "class PerpetualPutOption\n",
    "{\n",
    "  \n",
    "    double X,A,alpha,Sf;\n",
    "    \n",
    "public:\n",
    "    \n",
    "    PerpetualPutOption(double X,double r,double D0,double sigma):X(X)\n",
    "    {\n",
    "        double rDhalfsig2 = r-D0-0.5*sigma*sigma;\n",
    "        double d = rDhalfsig2*rDhalfsig2 + 2*r*sigma*sigma;\n",
    "        alpha = (-rDhalfsig2 - sqrt(d))/sigma/sigma;\n",
    "        Sf = X/(1-1./alpha);\n",
    "        A = -1./alpha*pow(Sf,1-alpha);\n",
    "    }\n",
    "    \n",
    "    double operator()(double S) const { \n",
    "        if(S < Sf)\n",
    "            return X - S;\n",
    "        else\n",
    "            return A*pow(S,alpha);\n",
    "    }\n",
    "    \n",
    "    double getSf() const {return Sf;}\n",
    "    \n",
    "};"
   ]
  },
  {
   "cell_type": "code",
   "execution_count": 3,
   "metadata": {},
   "outputs": [],
   "source": [
    "class PerpetualCallOption\n",
    "{\n",
    "  \n",
    "    double X,A,alpha,Sf;\n",
    "    \n",
    "public:\n",
    "    \n",
    "    PerpetualCallOption(double X,double r,double D0,double sigma):X(X)\n",
    "    {\n",
    "        double rDhalfsig2 = r-D0-0.5*sigma*sigma;\n",
    "        double d = rDhalfsig2*rDhalfsig2 + 2*r*sigma*sigma;\n",
    "        alpha = (-rDhalfsig2 + sqrt(d))/sigma/sigma;\n",
    "        Sf = X/(1-1./alpha);\n",
    "        A = 1./alpha*pow(Sf,1-alpha);\n",
    "    }\n",
    "    \n",
    "    double operator()(double S) const { \n",
    "        if(S > Sf)\n",
    "            return S - X;\n",
    "        else\n",
    "            return A*pow(S,alpha);\n",
    "    }\n",
    "    \n",
    "    double getSf() const {return Sf;}\n",
    "    \n",
    "};\n"
   ]
  },
  {
   "cell_type": "markdown",
   "metadata": {},
   "source": [
    "Add some parameters and vectors for plotting."
   ]
  },
  {
   "cell_type": "code",
   "execution_count": 4,
   "metadata": {},
   "outputs": [],
   "source": [
    "double X;\n",
    "double r;\n",
    "double d;\n",
    "double sigma;\n",
    "PerpetualPutOption P(X,r,d,sigma);\n",
    "PerpetualCallOption C(X,r,d,sigma);\n",
    "int n=200;\n",
    "std::vector<double> Svalues(n+1);\n",
    "std::vector<std::vector<double>> Option_values(4,std::vector<double>(n+1));\n",
    "double dS;\n"
   ]
  },
  {
   "cell_type": "markdown",
   "metadata": {},
   "source": [
    "Put in some values and plot the graphs against $S$, giving both the option value and it's payoff."
   ]
  },
  {
   "cell_type": "code",
   "execution_count": 5,
   "metadata": {},
   "outputs": [],
   "source": [
    "X = 1;\n",
    "r = 0.04;\n",
    "d = 0.04;\n",
    "sigma = 0.2;\n",
    "dS = 2*X/n;\n",
    "P = {X,r,d,sigma};\n",
    "C = {X,r,d,sigma};\n",
    "for(int i = 0;i<=n;i++)\n",
    "{\n",
    "    Svalues[i] = i*dS;\n",
    "    Option_values[0][i] = P(Svalues[i]);\n",
    "    Option_values[1][i] = std::max(X-Svalues[i],0.);\n",
    "    Option_values[2][i] = C(Svalues[i]);\n",
    "    Option_values[3][i] = std::max(Svalues[i]-X,0.);\n",
    "}"
   ]
  },
  {
   "cell_type": "code",
   "execution_count": 6,
   "metadata": {},
   "outputs": [
    {
     "data": {
      "image/png": "[encoded data removed]"
     },
     "execution_count": 6,
     "metadata": {},
     "output_type": "execute_result"
    }
   ],
   "source": [
    "// plot the figure\n",
    "{\n",
    "    // add labels on the x/y axis\n",
    "    std::stringstream ss(\"set xlabel \\\"S\\\"\\n set ylabel \\\"P and C\\\"\");\n",
    "    // put the plot in figure1\n",
    "    figure = G.plotData(Svalues,Option_values,&ss);\n",
    "}\n",
    "// show figure\n",
    "figure"
   ]
  },
  {
   "cell_type": "markdown",
   "metadata": {},
   "source": [
    "See the full code solution on github [click here](https://github.com/pjohno/MSc-Math-Finance-2018/blob/master/main/project-7-free-boundaries.cpp)."
   ]
  }
 ],
 "metadata": {
  "kernelspec": {
   "display_name": "C++14",
   "language": "C++14",
   "name": "xcpp14"
  },
  "language_info": {
   "codemirror_mode": "text/x-c++src",
   "file_extension": ".cpp",
   "mimetype": "text/x-c++src",
   "name": "c++",
   "version": "14"
  }
 },
 "nbformat": 4,
 "nbformat_minor": 2
}
