{
 "cells": [
  {
   "cell_type": "code",
   "execution_count": 1,
   "metadata": {},
   "outputs": [],
   "source": [
    "#include <iostream>\n",
    "#include <cmath>\n",
    "#include <fstream>\n",
    "#include <sstream>\n",
    "#include <vector>\n",
    "#include <algorithm>\n",
    "#include \"../include/MSc_projects_gnuplot.hpp\"\n",
    "#include \"../include/MSc_projects_pde_solvers.hpp\"\n",
    "#include \"xeus/xjson.hpp\""
   ]
  },
  {
   "cell_type": "code",
   "execution_count": 2,
   "metadata": {},
   "outputs": [],
   "source": [
    ".L ../lib/libMSc_Math_Finance_2018LIB.so"
   ]
  },
  {
   "cell_type": "code",
   "execution_count": 3,
   "metadata": {},
   "outputs": [],
   "source": [
    "// ONLY RUN THIS CELL ONCE AT THE START\n",
    "// allow for figures to be plotted\n",
    "xeus::xjson mime_bundle_repr(const MSC_PROJECTS::gnuplotImage& i)\n",
    "{\n",
    "    auto bundle = xeus::xjson::object();\n",
    "    bundle[\"image/png\"] = MSC_PROJECTS::encode64(i.imageText);\n",
    "    return bundle;\n",
    "}\n",
    "// gnuplot functions\n",
    "MSC_PROJECTS::GnuplotWidget G;\n",
    "MSC_PROJECTS::gnuplotImage figure1;"
   ]
  },
  {
   "cell_type": "code",
   "execution_count": 4,
   "metadata": {},
   "outputs": [],
   "source": [
    "// ONLY RUN THIS CELL ONCE AT THE START\n",
    "// problem parameters\n",
    "double Gamma,sigma,r,mu,T,xMin,xMax;\n",
    "std::vector<double> X,pt,Jt;"
   ]
  },
  {
   "cell_type": "code",
   "execution_count": 26,
   "metadata": {},
   "outputs": [
    {
     "data": {
      "text/plain": [
       "5"
      ]
     },
     "execution_count": 26,
     "metadata": {},
     "output_type": "execute_result"
    }
   ],
   "source": [
    "Gamma=-3;\n",
    "sigma=0.05;\n",
    "r=0.0;\n",
    "mu=r+0.02;\n",
    "T=10;\n",
    "xMin=0.5; // minimum fund value\n",
    "xMax=5; // minimum fund value "
   ]
  },
  {
   "cell_type": "code",
   "execution_count": 27,
   "metadata": {},
   "outputs": [],
   "source": [
    "MSC_PROJECTS::calculateExpectedUtility(xMin,xMax,0.,T,r,mu,sigma,Gamma,2000,X,pt,Jt);"
   ]
  },
  {
   "cell_type": "code",
   "execution_count": 28,
   "metadata": {},
   "outputs": [
    {
     "data": {
      "image/png": "[encoded data removed]"
     },
     "execution_count": 28,
     "metadata": {},
     "output_type": "execute_result"
    }
   ],
   "source": [
    "{\n",
    "    std::stringstream ss(\"set xrange [0.5:1.5]\\n\");\n",
    "    figure1 = G.plotData(X,pt,&ss);\n",
    "}\n",
    "figure1"
   ]
  },
  {
   "cell_type": "code",
   "execution_count": null,
   "metadata": {},
   "outputs": [],
   "source": []
  }
 ],
 "metadata": {
  "kernelspec": {
   "display_name": "C++14",
   "language": "C++14",
   "name": "xeus-cling-cpp14"
  },
  "language_info": {
   "codemirror_mode": "text/x-c++src",
   "file_extension": ".cpp",
   "mimetype": "text/x-c++src",
   "name": "c++",
   "version": "14"
  }
 },
 "nbformat": 4,
 "nbformat_minor": 2
}
