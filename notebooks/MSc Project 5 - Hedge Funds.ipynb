{
 "cells": [
  {
   "cell_type": "markdown",
   "metadata": {},
   "source": [
    "# Modelling Hedge Funds\n",
    "\n",
    "Click here for an interactive version of this notebook:-\n",
    "[![Binder](https://mybinder.org/badge.svg)](https://mybinder.org/v2/gh/pjohno/MSc-Math-Finance-2018/master?filepath=notebooks%2FMSc%20Project%205%20-%20Hedge%20Funds.ipynb)\n",
    "\n",
    "We think of the allocation problem as Merton, that is the manager wants to allocate the fund money between a risky asset and a risk-less asset or bank account, to maximise his own utility (a concave function) of wealth.\n",
    "\n",
    "Let $X_t$ be the amount of money invested in the Hedge fund, which is divided in $M_t$ the money in the bank account and $R_t$ the risky investment, having dynamics.\n",
    "$$\n",
    " dR_t = \\mu R_t dt + \\sigma R_t dB_t\n",
    " $$\n",
    " $$\n",
    " dM_t = r M_t dt \n",
    "$$\n",
    "\n",
    "where $\\mu$ is the rate of return of the risky investment, $\\sigma$ its volatility and $r$ the risk-free interest rate. Let $p$ be the portfolio allocation in the risky investment (i.e. the percentage invested in the risky asset), thus we can write the dynamics of the fund as \n",
    "\n",
    "$$\n",
    "dX_t = \\big( (r + (\\mu -r)p) X_t \\big) dt +\\sigma p X_t dB_t \n",
    "$$\n",
    "\n",
    "The manager's wealth $W_t = f(X_t)$ is subjected to:\n",
    "- Proportion owned, the manager owns a small portion  $a$ of the fund.\n",
    "- Management fee, over the period $t_i$\n",
    "- Incentive fees, in the case of favourable results, for fund values above a pre-established high-water mark $H_T$. \n",
    "- Owners closure, or exogenous closure, if the fund is performing very poorly, which means that the price drops less than half the high-water mark $\\Phi$, the investor chooses to close the fund.\n",
    "- Managers closure, or endogenous closure, if outside opportunities (represented by $L$) are fairer, the manager chooses to close the fund.\n",
    "\n",
    "Hence the managers wealth at terminal time is\n",
    "\n",
    "\\begin{equation}\\label{eq:ManagerPayment}\n",
    "f(X_T) = \\begin{cases}\n",
    "a X_T + (1-a)b T X_T + (1-a)c (X_T - H_T)^+ & \\text{If no closure events occurs}\\\\\n",
    "a X_t + (1-a)b t X_t + L(T-t) & \\text{If an endogenous closure happen at time }t \\\\\n",
    "a X_t + (1-a)b t \\Phi  & \\text{If an exogenous closure happen at time }t.\n",
    "\\end{cases}\n",
    "\\end{equation}\n",
    "\n",
    "The manager's problem  is to find the optimal portfolio allocation $p$ that maximises his expected utility of wealth\n",
    "\\begin{equation*}\n",
    "\\displaystyle J(X_t=x, t) = \\max_{p} \\left\\{ \\mathbb{E}^{x,t}\\left[ U(f(X_T)) \\right] \\right\\}\n",
    "\\end{equation*}\n",
    "where $p \\in [0,4.5]$, we use a CRRA the utility function $\\left( \\displaystyle U(x) = \\frac{x^{1-\\gamma}}{1-\\gamma} \\right)$.\n",
    "\n",
    "\n",
    "Using stochastic control techniques we derive the corresponding HJB equation\n",
    "\\begin{eqnarray}\\label{eq:HJBManager}\n",
    "& \\displaystyle \\frac{\\partial J}{\\partial t} + \\max_{p} \\left\\{ \\frac{1}{2} \\sigma^2p^2 X^2 \\frac{\\partial^2 J}{\\partial X^2} +\\left( (r + (\\mu -r)p)X \\right)\\frac{\\partial J}{\\partial X} \\right\\} = 0, \\\\\n",
    "\\nonumber & J(X_T, T) = U(f(X_T)) = g(X_T)\n",
    "\\end{eqnarray}\n",
    "\n",
    "## Initial Problem\n",
    "\n",
    "To make things very simple to begin with, we are going to solve a problem\n",
    "with **no** incentive fees, so that we simply have the final condition on $J$ that\n",
    "\n",
    "\\begin{equation}\\label{eq:SimpleManagerPayment}\n",
    "J(X_T,T) = U( X_T ).\n",
    "\\end{equation}\n",
    "\n",
    "Now, let us include the extra condition to close the fund if it underperforms, we do this with the following condition\n",
    "\n",
    "\\begin{equation}\\label{eq:barrier}\n",
    "J(X_t,t) = U( X_t e^{r(T-t)} ) \\quad \\text{ if } \\quad X_t \\leq 0.5 .\n",
    "\\end{equation}\n",
    "\n",
    "Here we have assumed that if the fund is closed the money is taken out and put in a risk-free bank account (hence the inflation by risk-free rate $r$), so we need the utility of that money at $t=T$ to compare.\n",
    "\n",
    "Now we are going to outline how to solve \n",
    "\n",
    "\\begin{equation}\\label{eq:SimpleHJBManager}\n",
    "  \\frac{\\partial J}{\\partial t} + \\max_{p} \\left\\{ \\frac{1}{2} \\sigma^2p^2 X^2 \\frac{\\partial^2 J}{\\partial X^2} +\\left( (r + (\\mu -r)p)X \\right)\\frac{\\partial J}{\\partial X} \\right\\} = 0\n",
    "\\end{equation}\n",
    "\n",
    "and derive the boundary conditions. At $t=T$ we have the final condition on $J$ as given above, so what happens at $X_t=0.5$ and $X_t\\rightarrow \\infty$? Well first notice that if we take derivatives with respect to the control $p$ of the PDE we get\n",
    "\n",
    "\\begin{align}\\label{eq:SimpleHJBManagerwrtp}\n",
    "  \\frac{\\partial^2 J}{\\partial t\\partial p} + \\max_{p} \\left\\{ \\frac{1}{2} \\sigma^2p^2 X^2 \\frac{\\partial^3 J}{\\partial X^2\\partial p} +\\left( (r + (\\mu -r)p)X \\right)\\frac{\\partial^2 J}{\\partial X\\partial p} \\quad \\right. & \\nonumber \\\\\n",
    "  \\left.+\\sigma^2p X^2 \\frac{\\partial^2 J}{\\partial X^2}+ (\\mu -r)X\\frac{\\partial J}{\\partial X} \\right\\} & =0\n",
    "\\end{align}\n",
    "\n",
    "and if $p$ is a maximum then all derivatives w.r.t. $p$ should be zero, so we are left with\n",
    "\n",
    "\\begin{equation}\\label{eq:conditiononp}\n",
    "\\sigma^2p X^2 \\frac{\\partial^2 J}{\\partial X^2}+ (\\mu -r)X\\frac{\\partial J}{\\partial X}=0.\n",
    "\\end{equation}\n",
    "\n",
    "It follows then that the optimal choice of p is \n",
    "\n",
    "\\begin{equation}\n",
    "p = \\frac{(\\mu -r)(\\partial J/\\partial X)}{\\sigma^2 X (\\partial^2 J/\\partial X^2)}\n",
    "\\end{equation}\n",
    "\n",
    "and the boundary condition as $X\\rightarrow\\infty$ can be found by assuming that the solution\n",
    "takes the form\n",
    "\n",
    "$$\n",
    "J(X,t) = g(t)X^\\gamma\n",
    "$$\n",
    "\n",
    "## Numerical Scheme\n",
    "\n",
    "\n",
    "We propose to implement a implicit-explicit finite difference scheme. The notation is as follows\n",
    "\n",
    "- space variable $X = x_j = X_\\text{min} + j\\Delta X$ where $\\frac{X_\\text{max}-X_\\text{min}}{jMax}$ \n",
    "- time variable $t = t^i = i\\Delta t$ where $\\frac{T}{iMax}$ \n",
    "- value function $J(X,t) = J(X_j,t^i) \\approx v^{i}_j$. \n",
    "- optimal proportion $p(X,t)= p(X_j,t^i) \\approx p^{i}_j$. \n",
    "\n",
    "Note here that $v$ and $p$ are **both** functions of $X$ and $t$ so we have to solve for both $v$ and $p$ simultaneously. We are going to assume for simplicity that $p$ is held constant across the timestep and can be found explicitly using $v^i_j$.\n",
    "\n",
    "The numerical scheme can be written in the following form\n",
    "$$\n",
    "p^i_j =  \\frac{(\\mu -r)(v^{i+1}_{j+1}-v^{i+1}_{j-1})dX}{2\\sigma^2 X_j (v^{i+1}_{j+1}-2v^{i+1}_{j}+v^{i+1}_{j-1})}\n",
    "$$\n",
    "\n",
    "$$\n",
    "a_j v^i_{j-1} +b_j v^i_j + c_j v^i_{j+1}= d_j  \n",
    "$$\n",
    "\n",
    "where the coefficients are\n",
    "$$\n",
    "a_j = \\frac12(p^i_j)^2\\sigma^2\\frac{X_j^2}{dX^2} -  \\frac12(r+(\\mu-r)p_j^i)\\frac{X_j}{dX}\n",
    "$$ \n",
    "$$\n",
    "b_j = -(p^i_j)^2\\sigma^2\\frac{X_j^2}{dX^2}-\\frac{1}{dt};\n",
    "$$ \n",
    "$$\n",
    "c_j = \\frac12(p^i_j)^2\\sigma^2\\frac{X_j^2}{dX^2} + \\frac12(r+(\\mu-r)p_j^i)\\frac{X_j}{dX}\n",
    "$$ \n",
    "and \n",
    "$$\n",
    "d_j = -\\frac{v_j^{i+1}}{dt}\n",
    "$$ \n"
   ]
  },
  {
   "cell_type": "code",
   "execution_count": 1,
   "metadata": {},
   "outputs": [],
   "source": [
    "#include <iostream>\n",
    "#include <cmath>\n",
    "#include <fstream>\n",
    "#include <sstream>\n",
    "#include <vector>\n",
    "#include <algorithm>\n",
    "#include \"../include/MSc_projects_pde_solvers.hpp\""
   ]
  },
  {
   "cell_type": "code",
   "execution_count": 2,
   "metadata": {},
   "outputs": [],
   "source": [
    ".L ../lib/libMSc_Math_Finance_2018LIB.so"
   ]
  },
  {
   "cell_type": "code",
   "execution_count": 3,
   "metadata": {},
   "outputs": [],
   "source": [
    ".L boost_system"
   ]
  },
  {
   "cell_type": "code",
   "execution_count": 4,
   "metadata": {},
   "outputs": [],
   "source": [
    "#include \"msc_gnuplot_image.hpp\""
   ]
  },
  {
   "cell_type": "markdown",
   "metadata": {},
   "source": [
    "Set up storage for parameters and vectors required:"
   ]
  },
  {
   "cell_type": "code",
   "execution_count": 5,
   "metadata": {},
   "outputs": [],
   "source": [
    "// ONLY RUN THIS CELL ONCE AT THE START\n",
    "// problem parameters\n",
    "double Gamma,sigma,r,mu,T,xMin,xMax;\n",
    "std::vector<double> X,pt,Jt,investmentYield;\n",
    "\n",
    "// grid parameters\n",
    "int iMax,jMax,n;\n",
    "//set up local parameters\n",
    "double dt;\n",
    "double dX;"
   ]
  },
  {
   "cell_type": "markdown",
   "metadata": {},
   "source": [
    "Assign initial values"
   ]
  },
  {
   "cell_type": "code",
   "execution_count": 6,
   "metadata": {},
   "outputs": [],
   "source": [
    "Gamma=-3;\n",
    "sigma=0.05;\n",
    "r=0.0538;\n",
    "mu=r+0.02;\n",
    "T=1;\n",
    "xMin=0.5; // minimum fund value\n",
    "xMax=5; // minimum fund value \n",
    "n=500;\n",
    "\n",
    "iMax=T*n;\n",
    "jMax=n;\n",
    "//set up local parameters\n",
    "dt = T/iMax;\n",
    "dX = (xMax-xMin)/jMax;\n",
    "X.resize(jMax+1);pt.resize(jMax+1);Jt.resize(jMax+1);\n",
    "// setup and initialise the stock price \n",
    "for(int j=0;j<=jMax;j++)\n",
    "{\n",
    "    X[j] = xMin + j*dX;\n",
    "}\n",
    "// setup and initialise the final conditions on the option price \n",
    "// this just uses U(X) as the final condition\n",
    "for(int j=0;j<=jMax;j++)\n",
    "{\n",
    "    Jt[j] = pow(X[j],Gamma)/Gamma;\n",
    "}"
   ]
  },
  {
   "cell_type": "markdown",
   "metadata": {},
   "source": [
    "Now solve the problem. We run backwards through time, solving first for the value of $p$ before putting the value of $p$ inside the PDE coefficients to solve for $v$. We use the tridag solver (as opposed to SOR) to solve the resulting matrix equation. We have also adapted the scheme to ensure stability by making sure that the coefficient $a$ is always positive."
   ]
  },
  {
   "cell_type": "code",
   "execution_count": 7,
   "metadata": {},
   "outputs": [],
   "source": [
    "// start looping through time levels\n",
    "for(int i=iMax-1;i>=0;i--)\n",
    "{\n",
    "    std::vector<double> JtOld(Jt);\n",
    "    // first calculate optimal p using the values at t+dt\n",
    "    for(int j=1;j<=jMax-1;j++)\n",
    "    {\n",
    "        double dJdX = ( JtOld[j+1] - JtOld[j-1] ) / 2. / dX;\n",
    "        double d2JdX2 = ( JtOld[j+1] - 2.*JtOld[j] + JtOld[j-1] ) / dX / dX;\n",
    "// bound p in between 0 and 5\n",
    "        double p = std::min(std::max(0.,(r-mu)*X[j]*dJdX / (sigma*sigma*X[j]*X[j]*d2JdX2)),5.);\n",
    "        if(d2JdX2>0)p=5.;\n",
    "        pt[j]=p;\n",
    "    }\n",
    "    // declare vectors for matrix equations\n",
    "    std::vector<double> a(jMax+1),b(jMax+1),c(jMax+1),d(jMax+1);\n",
    "    // boundary condition assumes that p=0 at X=0\n",
    "    a[0]=0.;b[0]=1./dt + .5*r*xMin/dX;c[0]= -0.5*r*xMin/dX;d[0] = JtOld[0]/dt + 0.5*r*xMin*( JtOld[1]-JtOld[0] )/dX;\n",
    "    for(int j=1;j<=jMax-1;j++)\n",
    "    {\n",
    "        double p=pt[j];\n",
    "        // change these ptOld[j] to p's to update at each step\n",
    "        if((r+(mu-r)*p)*X[j]/dX>p*p*sigma*sigma*X[j]*X[j]/dX/dX)\n",
    "        {\n",
    "            a[j]=0.5*(p*p*sigma*sigma*X[j]*X[j]/dX/dX);\n",
    "            b[j]=-p*p*sigma*sigma*X[j]*X[j]/dX/dX-(r+(mu-r)*p)*X[j]/dX-1./dt;\n",
    "            c[j]=0.5*p*p*sigma*sigma*X[j]*X[j]/dX/dX+(r+(mu-r)*p)*X[j]/dX;\n",
    "        }\n",
    "        else\n",
    "        {\n",
    "            a[j]=0.5*(p*p*sigma*sigma*X[j]*X[j]/dX/dX-(r+(mu-r)*p)*X[j]/dX);\n",
    "            b[j]=-p*p*sigma*sigma*X[j]*X[j]/dX/dX-1./dt;\n",
    "            c[j]=0.5*(p*p*sigma*sigma*X[j]*X[j]/dX/dX+(r+(mu-r)*p)*X[j]/dX);\n",
    "        }\n",
    "        d[j]=- 1./dt*JtOld[j];\n",
    "    }\n",
    "    a[jMax]=0.;b[jMax]=1.;c[jMax]=0.;\n",
    "    {\n",
    "        double pHat = (mu - r)/sigma/sigma/(1-Gamma);\n",
    "        double aHat=(r+pHat*(mu-r)) - 0.5*pHat*pHat*sigma*sigma*(1-Gamma);\n",
    "        d[jMax] = pow(X[jMax]*exp(aHat*(T-i*dt)),Gamma)/Gamma;\n",
    "    }\n",
    "    // solve the matrix equations, Jt now stores solution at t+dthalf\n",
    "    Jt = MSC_PROJECTS::tridag(a,b,c,d);\n",
    "}"
   ]
  },
  {
   "cell_type": "markdown",
   "metadata": {},
   "source": [
    "Now we have the solution at $t=0$ we can first plot the solution of the optimal proportion $p$ as follows. Notice that this will tend towards the Merton solution \n",
    "$$\n",
    "p_\\infty = \\frac{\\mu - r}{\\sigma^2(1-\\gamma)} = 2\n",
    "$$\n",
    " for large $X$."
   ]
  },
  {
   "cell_type": "code",
   "execution_count": 8,
   "metadata": {},
   "outputs": [
    {
     "data": {
      "image/png": "[encoded data removed]"
     },
     "execution_count": 8,
     "metadata": {},
     "output_type": "execute_result"
    }
   ],
   "source": [
    "using namespace GPLT;\n",
    "{\n",
    "    std::stringstream ss(\"set xrange [0.5:1.5]\\n\");\n",
    "    figure = G.plotData(X,pt,&ss);\n",
    "}\n",
    "figure"
   ]
  },
  {
   "cell_type": "markdown",
   "metadata": {},
   "source": [
    "Plotting out the value of the expected utility $J$, or the certainty equivalent $U^{-1}(J)$ is not very informative. Instead we choose to plot the *investment yield* which we define as\n",
    "$$\n",
    "Y(T) = \\frac{1}{T} \\bigg( \\ln( U^{-1}\\{J(X,0)\\} ) - \\ln(X) \\bigg)\n",
    "$$\n",
    "Note that this tends to the expected investment yield as given by Merton which is\n",
    "$$\n",
    "Y = (r+p_\\infty(\\mu-r)) - \\frac12 p_\\infty^2\\sigma^2(1-\\gamma) \n",
    "$$\n",
    "where\n",
    "$$\n",
    "p_\\infty = \\frac{\\mu - r}{\\sigma^2(1-\\gamma)}.\n",
    "$$"
   ]
  },
  {
   "cell_type": "code",
   "execution_count": 9,
   "metadata": {},
   "outputs": [
    {
     "data": {
      "image/png": "[encoded data removed]"
     },
     "execution_count": 9,
     "metadata": {},
     "output_type": "execute_result"
    }
   ],
   "source": [
    "\n",
    "  investmentYield.resize(Jt.size());\n",
    "  for(int i=0;i<Jt.size();i++)\n",
    "  {\n",
    "      // investment yield = 1/T * log(certainty equivalent / initial investment)\n",
    "      investmentYield[i] = 1./T * log(pow( Gamma * Jt[i] , 1./Gamma ) / X[i]);\n",
    "  }\n",
    "  {\n",
    "    std::stringstream ss(\"set xrange [0.5:1.5]\\n\");\n",
    "    figure = G.plotData(X,investmentYield,&ss);\n",
    "}\n",
    "figure"
   ]
  },
  {
   "cell_type": "markdown",
   "metadata": {},
   "source": [
    "See the full code solution on github [click here](https://github.com/pjohno/MSc-Math-Finance-2018/blob/master/main/project-5-hedge-funds.cpp)."
   ]
  }
 ],
 "metadata": {
  "kernelspec": {
   "display_name": "C++14",
   "language": "C++14",
   "name": "xeus-cling-cpp14"
  },
  "language_info": {
   "codemirror_mode": "text/x-c++src",
   "file_extension": ".cpp",
   "mimetype": "text/x-c++src",
   "name": "c++",
   "version": "14"
  }
 },
 "nbformat": 4,
 "nbformat_minor": 2
}
