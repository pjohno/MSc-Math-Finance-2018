{
 "cells": [
  {
   "cell_type": "code",
   "execution_count": 1,
   "metadata": {},
   "outputs": [],
   "source": [
    "#include <iostream>\n",
    "#include <algorithm>\n",
    "#include <cmath>\n",
    "#include <vector>\n",
    "#include \"../include/MSc_projects_gnuplot.hpp\"\n",
    "#include \"xeus/xjson.hpp\"\n"
   ]
  },
  {
   "cell_type": "code",
   "execution_count": 2,
   "metadata": {},
   "outputs": [],
   "source": [
    ".L ../lib/libMSc_Math_Finance_2018LIB.so"
   ]
  },
  {
   "cell_type": "code",
   "execution_count": 3,
   "metadata": {},
   "outputs": [],
   "source": [
    "// ONLY RUN THIS CELL ONCE AT THE START\n",
    "// allow for figures to be plotted\n",
    "xeus::xjson mime_bundle_repr(const MSC_PROJECTS::gnuplotImage& i)\n",
    "{\n",
    "    auto bundle = xeus::xjson::object();\n",
    "    bundle[\"image/png\"] = MSC_PROJECTS::encode64(i.imageText);\n",
    "    return bundle;\n",
    "}\n",
    "// gnuplot functions\n",
    "MSC_PROJECTS::GnuplotWidget G;\n",
    "MSC_PROJECTS::gnuplotImage figure1;\n",
    "// storage for plots\n",
    "std::vector<double> x;\n",
    "std::vector<double> y;\n",
    "std::vector<std::vector<double>> z;"
   ]
  },
  {
   "cell_type": "code",
   "execution_count": 4,
   "metadata": {},
   "outputs": [],
   "source": [
    "// return the intesity process lambda for a given price (inverse of the price function)\n",
    "double lambdaIntensity(double price,double a,double alpha)\n",
    "{\n",
    "  return a*exp(-alpha*price);\n",
    "}"
   ]
  },
  {
   "cell_type": "code",
   "execution_count": 5,
   "metadata": {},
   "outputs": [],
   "source": [
    "// return the price we are selling at if the current sales intensity is lambda (inverse of the intensity function)\n",
    "double priceFunction(double lambda,double a,double alpha)\n",
    "{\n",
    "  return -1/alpha*log(lambda/a);\n",
    "}"
   ]
  },
  {
   "cell_type": "code",
   "execution_count": 6,
   "metadata": {},
   "outputs": [],
   "source": [
    "// Ns is the number of stock units that may be sold\n",
    "  int Ns;\n",
    "  // parameters for the pricing function\n",
    "  double a,alpha;\n",
    "  \n",
    "  // number of timesteps\n",
    "  int K;\n",
    "  // length of time T in which we can sell units\n",
    "  double T,dt;\n",
    "  // create storage to track the optimal sales policy p and value function J\n",
    "  // assume here that J(n,t) = J(n,t^j) = J_n^j\n",
    "  // in code J[n][j] ~~ J_n^j\n",
    "  std::vector<std::vector<double> > Jvalue,optimalPvalue;\n",
    "  \n",
    "  double pStar;"
   ]
  },
  {
   "cell_type": "code",
   "execution_count": 7,
   "metadata": {},
   "outputs": [],
   "source": [
    "// Ns is the number of stock units that may be sold\n",
    "Ns=25;\n",
    "// parameters for the pricing function\n",
    "a=40.;alpha=1.;\n",
    "  \n",
    "// number of timesteps\n",
    "K=100;\n",
    "// length of time T in which we can sell units\n",
    "T=1.;\n",
    "// grid variables\n",
    "dt = T/K;\n",
    "  \n",
    "Jvalue.resize(Ns+1,std::vector<double> (K+1));\n",
    "optimalPvalue.resize(Ns+1,std::vector<double> (K+1));\n",
    "  \n",
    "pStar=1.;"
   ]
  },
  {
   "cell_type": "code",
   "execution_count": 8,
   "metadata": {},
   "outputs": [],
   "source": [
    "// assign boundary conditions\n",
    "  // J(n,T)=0\n",
    "  for(int n=0;n<=Ns;n++)\n",
    "  {\n",
    "    Jvalue[n][K]=0.;\n",
    "  }\n",
    "  \n",
    "  // J(0,t)=0\n",
    "  for(int j=0;j<=K;j++)\n",
    "  {\n",
    "    Jvalue[0][j]=0.;\n",
    "  }\n",
    "// assume that selling price is fixed p=1, we solve backwards in time so that\n",
    "  //\n",
    "  //  dJ/dt - lambda(p) ( J(n,t+dt)-J(n-1,t+dt) ) + p lambda(p) = 0\n",
    "  // and in finite differences we have\n",
    "  //  ( J(n,t+dt) - J(n,t) )/dt - lambda(p) ( J(n,t+dt)-J(n-1,t+dt) ) + p lambda(p) = 0\n",
    "  // then we can write\n",
    "  //      J(n,t) = ( 1 - lambda(p) dt ) J(n,t+dt) + ( lambda(p) dt ) J(n-1,t+dt) + p lambda(p)\n",
    "  //      J_n^j = ( 1 - lambda(p) dt ) J_n^{j+1} + ( lambda(p) dt ) J_{n-1}^{j+1} + p lambda(p)\n",
    "  // notice the similarity to binomial tree pricing formula, except q=lambda(p) dt is the probability\n",
    "  //\n",
    "  // At each time step, calculate the Jvalue\n",
    "  for(int j=K-1;j>=0;j--)\n",
    "  {\n",
    "    for(int n=1;n<=Ns;n++)\n",
    "    {\n",
    "      Jvalue[n][j]=(1.- lambdaIntensity(pStar,a,alpha)*dt) * Jvalue[n][j+1] + lambdaIntensity(pStar,a,alpha)*dt * Jvalue[n-1][j+1] + pStar * lambdaIntensity(pStar,a,alpha) * dt;\n",
    "    }\n",
    "  }"
   ]
  },
  {
   "cell_type": "code",
   "execution_count": 12,
   "metadata": {},
   "outputs": [
    {
     "data": {
      "image/png": "[encoded data removed]"
     },
     "execution_count": 12,
     "metadata": {},
     "output_type": "execute_result"
    }
   ],
   "source": [
    "x.resize(Ns+1);\n",
    "for(int n=0;n<=Ns;n++)\n",
    "{\n",
    "    x[n] = n;\n",
    "}\n",
    "y.resize(K+1);\n",
    "for(int j=0;j<=K;j++)\n",
    "{\n",
    "    y[j]= j*dt;\n",
    "}\n",
    "// plot the figure\n",
    "{\n",
    "    // add labels on the x/y axis\n",
    "    std::stringstream ss(\"set view 120,60\");\n",
    "    // put the plot in figure1\n",
    "    figure1 = G.plotData3D(x,y,Jvalue,&ss);\n",
    "}\n",
    "// show figure\n",
    "figure1"
   ]
  },
  {
   "cell_type": "code",
   "execution_count": null,
   "metadata": {},
   "outputs": [],
   "source": []
  }
 ],
 "metadata": {
  "kernelspec": {
   "display_name": "C++14",
   "language": "C++14",
   "name": "xeus-cling-cpp14"
  },
  "language_info": {
   "codemirror_mode": "text/x-c++src",
   "file_extension": ".cpp",
   "mimetype": "text/x-c++src",
   "name": "c++",
   "version": "14"
  }
 },
 "nbformat": 4,
 "nbformat_minor": 2
}
