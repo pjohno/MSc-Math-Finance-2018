{
 "cells": [
  {
   "cell_type": "markdown",
   "metadata": {},
   "source": [
    "# Revenue Management in Continuous Time\n",
    "\n",
    "Click here for an interactive version of this notebook:-\n",
    "[![Binder](https://mybinder.org/badge.svg)](https://mybinder.org/v2/gh/pjohno/MSc-Math-Finance-2018/master?filepath=notebooks%2FMSc%20Project%206%20-%20Revenue%20Management.ipynb)\n",
    "\n",
    "\n",
    "Here we assume that an agent is trying to sell $n$ assets, and the agent is selling in a monopolist market with no competition. We assume that sales of the asset happen as an inhomogenous Poisson process $N$ where the intesity of the process $\\lambda$ is a function of the asset price $p$. Then we define the expected total revenue over the time period from now $t$ until the end of the period $T$ to be\n",
    "$$\n",
    "J^u(n,t) = \\text{E}\\left[\\int_t^T p_s dN_s\\right]\n",
    "$$\n",
    "where the superscript $u$ refers to a particular choice of prices at each time.\n",
    "If the agent wishes to maximise their expected revenue they must solve\n",
    "$$\n",
    "J(n,t) = \\sup_u\\left\\{\\text{E}\\left[\\int_t^T p_s dN_s\\right]\\right\\}\n",
    "$$\n",
    "by choosing the set of non-anticipatory prices $u$.\n",
    "\n",
    "## The HJB Equation\n",
    "\n",
    "This problem can be formulated as the following HJB equation\n",
    "$$\n",
    "\\frac{dJ}{dt} + \\sup_p\\left\\{ - \\lambda(p)[ J(n,t) - J(n-1,t) ] + \\lambda(p) p \\right\\} = 0\n",
    "$$\n",
    "with boundary conditions\n",
    "$$\n",
    "J(n,T) = 0\n",
    "$$\n",
    "and\n",
    "$$\n",
    "J(0,t) = 0.\n",
    "$$\n",
    "To find the optimal price $p$, simply differentiate the HJB equation w.r.t the price $p$ to obtain\n",
    "$$\n",
    " -\\lambda'[ J(n,t) - J(n-1,t) ] + (\\lambda' p + \\lambda) =  0\n",
    "$$\n",
    "or\n",
    "$$\n",
    " p = J(n,t) - J(n-1,t) - \\frac{\\lambda}{\\lambda'} .\n",
    "$$\n",
    "\n",
    "## Numerical Scheme\n",
    "\n",
    "To solve the problem we use an explicit scheme. First assume that we use fixed grid over time so that\n",
    "$$\n",
    "t^j = j\\Delta t .\n",
    "$$\n",
    "Then approximate the function $J$ by the numerical value $v$ so that \n",
    "$$\n",
    "J(n,t^j) = v_n^j \n",
    "$$\n",
    "and $p$ is \n",
    "$$\n",
    "p(n,t^j) = p_n^j .\n",
    "$$\n",
    "The equations to solve then become\n",
    "\n",
    "$$\n",
    "p_n^j = v_n^{j+1} - v_{n-1}^{j+1} - \\frac{\\lambda(p_n^j)}{\\lambda'(p_n^j)}\n",
    "$$\n",
    "\n",
    "and\n",
    "\n",
    "$$\n",
    " v_n^{j} = (1-\\lambda(p_n^j)\\Delta t) v_n^{j+1} + (\\lambda(p_n^j)\\Delta t) v_n^{j+1} + \\lambda(p_n^j)\\Delta t\n",
    "$$\n"
   ]
  },
  {
   "cell_type": "markdown",
   "metadata": {},
   "source": [
    "Include some standard libraries"
   ]
  },
  {
   "cell_type": "code",
   "execution_count": 1,
   "metadata": {},
   "outputs": [],
   "source": [
    "#include \"msc_project_6.hpp\""
   ]
  },
  {
   "cell_type": "markdown",
   "metadata": {},
   "source": [
    "Now first define the functional relationship between price and demand. We assign the following form\n",
    "\n",
    "$$\n",
    "\\lambda(p) = a e^{-\\alpha p}\n",
    "$$\n",
    "\n",
    "This means that finding $p_n^i$ becomes trivial as $\\lambda(p)/\\lambda'(p) = -1/\\alpha$."
   ]
  },
  {
   "cell_type": "code",
   "execution_count": 2,
   "metadata": {},
   "outputs": [],
   "source": [
    "// return the intesity process lambda for a given price (inverse of the price function)\n",
    "double lambdaIntensity(double price,double a,double alpha)\n",
    "{\n",
    "  return a*exp(-alpha*price);\n",
    "}"
   ]
  },
  {
   "cell_type": "markdown",
   "metadata": {},
   "source": [
    "Declare parameters in the problem:"
   ]
  },
  {
   "cell_type": "code",
   "execution_count": 3,
   "metadata": {},
   "outputs": [],
   "source": [
    "// Ns is the number of stock units that may be sold\n",
    "int Ns;\n",
    "// parameters for the pricing function\n",
    "double a,alpha;\n",
    "\n",
    "// number of timesteps\n",
    "int K;\n",
    "// length of time T in which we can sell units\n",
    "double T,dt;\n",
    "// create storage to track the optimal sales policy p and value function J\n",
    "// assume here that J(n,t) = J(n,t^j) = J_n^j\n",
    "// in code J[n][j] ~~ J_n^j\n",
    "std::vector<std::vector<double> > Jvalue,optimalPvalue;"
   ]
  },
  {
   "cell_type": "markdown",
   "metadata": {},
   "source": [
    "and assign them some values"
   ]
  },
  {
   "cell_type": "code",
   "execution_count": 4,
   "metadata": {},
   "outputs": [],
   "source": [
    "// Ns is the number of stock units that may be sold\n",
    "Ns=25;\n",
    "// parameters for the pricing function\n",
    "a=1000.;alpha=1.;\n",
    "  \n",
    "// number of timesteps\n",
    "K=100;\n",
    "// length of time T in which we can sell units\n",
    "T=1.;\n",
    "// grid variables\n",
    "dt = T/K;\n",
    "  \n",
    "Jvalue.resize(Ns+1,std::vector<double> (K+1));\n",
    "optimalPvalue.resize(Ns+1,std::vector<double> (K+1));"
   ]
  },
  {
   "cell_type": "markdown",
   "metadata": {},
   "source": [
    "We can then solve the scheme backwards in time to find the solution of $J$ and $p$."
   ]
  },
  {
   "cell_type": "code",
   "execution_count": 5,
   "metadata": {},
   "outputs": [],
   "source": [
    "// assign boundary conditions\n",
    "// J(n,T)=0\n",
    "for(int n=0;n<=Ns;n++)\n",
    "{\n",
    "Jvalue[n][K]=0.;\n",
    "}\n",
    "\n",
    "// J(0,t)=0\n",
    "for(int j=0;j<=K;j++)\n",
    "{\n",
    "Jvalue[0][j]=0.;\n",
    "}\n",
    "// assume that selling price is fixed p=1, we solve backwards in time so that\n",
    "//\n",
    "//  dJ/dt - lambda(p) ( J(n,t+dt)-J(n-1,t+dt) ) + p lambda(p) = 0\n",
    "// and in finite differences we have\n",
    "//  ( J(n,t+dt) - J(n,t) )/dt - lambda(p) ( J(n,t+dt)-J(n-1,t+dt) ) + p lambda(p) = 0\n",
    "// then we can write\n",
    "//      J(n,t) = ( 1 - lambda(p) dt ) J(n,t+dt) + ( lambda(p) dt ) J(n-1,t+dt) + p lambda(p)\n",
    "//      J_n^j = ( 1 - lambda(p) dt ) J_n^{j+1} + ( lambda(p) dt ) J_{n-1}^{j+1} + p lambda(p)\n",
    "// notice the similarity to binomial tree pricing formula, except q=lambda(p) dt is the probability\n",
    "//\n",
    "// At each time step, calculate the Jvalue\n",
    "for(int j=K-1;j>=0;j--)\n",
    "{\n",
    "    for(int n=1;n<=Ns;n++)\n",
    "    {\n",
    "        double pStar = Jvalue[n][j+1] - Jvalue[n-1][j+1] + 1./alpha;\n",
    "        double lambdaStar = lambdaIntensity(pStar,a,alpha);\n",
    "        Jvalue[n][j]=(1.- lambdaStar*dt) * Jvalue[n][j+1] + \n",
    "                        lambdaStar*dt * Jvalue[n-1][j+1] +\n",
    "                        pStar * lambdaStar * dt;\n",
    "        optimalPvalue[n][j] = pStar;\n",
    "\n",
    "    }\n",
    "}"
   ]
  },
  {
   "cell_type": "markdown",
   "metadata": {},
   "source": [
    "Now we can plot out the solution $J$"
   ]
  },
  {
   "cell_type": "code",
   "execution_count": 6,
   "metadata": {},
   "outputs": [
    {
     "data": {
      "image/png": "[encoded data removed]"
     },
     "execution_count": 6,
     "metadata": {},
     "output_type": "execute_result"
    }
   ],
   "source": [
    "x.resize(Ns+1);\n",
    "for(int n=0;n<=Ns;n++)\n",
    "{\n",
    "    x[n] = n;\n",
    "}\n",
    "y.resize(K+1);\n",
    "for(int j=0;j<=K;j++)\n",
    "{\n",
    "    y[j]= j*dt;\n",
    "}\n",
    "// plot the figure\n",
    "{\n",
    "    // add labels on the x/y axis\n",
    "    std::stringstream ss(\"set view 120,60\\n\"\n",
    "                         \"set xlabel \\\"Assets n\\\"\\n\"\n",
    "                        \"set ylabel \\\"Time t\\\"\\n\"\n",
    "                        \"set pm3d\\n\");\n",
    "    // put the plot in figure1\n",
    "    figure = G.plotData3D(x,y,Jvalue,&ss);\n",
    "}\n",
    "// show figure\n",
    "figure"
   ]
  },
  {
   "cell_type": "markdown",
   "metadata": {},
   "source": [
    "and $p$"
   ]
  },
  {
   "cell_type": "code",
   "execution_count": 7,
   "metadata": {},
   "outputs": [
    {
     "data": {
      "image/png": "[encoded data removed]"
     },
     "execution_count": 7,
     "metadata": {},
     "output_type": "execute_result"
    }
   ],
   "source": [
    "// plot the figure\n",
    "{\n",
    "    // add labels on the x/y axis\n",
    "    std::stringstream ss(\"set view 60,120\\n\"\n",
    "                         \"set xlabel \\\"Assets n\\\"\\n\"\n",
    "                        \"set ylabel \\\"Time t\\\"\\n\"\n",
    "                        \"set pm3d\\n\");\n",
    "    // put the plot in figure1\n",
    "    figure = G.plotData3D(x,y,optimalPvalue,&ss);\n",
    "}\n",
    "// show figure\n",
    "figure"
   ]
  },
  {
   "cell_type": "markdown",
   "metadata": {},
   "source": [
    "See the full code solution on github [click here](https://github.com/pjohno/MSc-Math-Finance-2018/blob/master/main/project-6-revenue-management.cpp)."
   ]
  }
 ],
 "metadata": {
  "kernelspec": {
   "display_name": "C++14",
   "language": "C++14",
   "name": "xcpp14"
  },
  "language_info": {
   "codemirror_mode": "text/x-c++src",
   "file_extension": ".cpp",
   "mimetype": "text/x-c++src",
   "name": "c++",
   "version": "14"
  }
 },
 "nbformat": 4,
 "nbformat_minor": 2
}
