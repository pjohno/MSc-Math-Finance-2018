{
 "cells": [
  {
   "cell_type": "code",
   "execution_count": 1,
   "metadata": {},
   "outputs": [],
   "source": [
    "#include <iostream>\n",
    "#include <cmath>\n",
    "#include <fstream>\n",
    "#include <sstream>\n",
    "#include <vector>\n",
    "#include <algorithm>\n",
    "#include \"../include/MSc_projects_gnuplot.hpp\"\n",
    "#include \"../include/MSc_projects_mVector.hpp\"\n",
    "#include \"../include/MSc_projects_Integrate.hpp\"\n",
    "#include \"xeus/xjson.hpp\"\n"
   ]
  },
  {
   "cell_type": "code",
   "execution_count": 2,
   "metadata": {},
   "outputs": [],
   "source": [
    ".L ../lib/libMSc_Math_Finance_2018LIB.so"
   ]
  },
  {
   "cell_type": "code",
   "execution_count": 3,
   "metadata": {},
   "outputs": [],
   "source": [
    "// ONLY RUN THIS CELL ONCE AT THE START\n",
    "// allow for figures to be plotted\n",
    "xeus::xjson mime_bundle_repr(const MSC_PROJECTS::gnuplotImage& i)\n",
    "{\n",
    "    auto bundle = xeus::xjson::object();\n",
    "    bundle[\"image/png\"] = MSC_PROJECTS::encode64(i.imageText);\n",
    "    return bundle;\n",
    "}\n",
    "// gnuplot functions\n",
    "MSC_PROJECTS::GnuplotWidget G;\n",
    "MSC_PROJECTS::gnuplotImage figure1;\n",
    "// storage for plots\n",
    "std::vector<double> x;\n",
    "std::vector<std::vector<double>> y;"
   ]
  },
  {
   "cell_type": "code",
   "execution_count": 4,
   "metadata": {},
   "outputs": [],
   "source": [
    "// ONLY RUN THIS CELL ONCE AT THE START\n",
    "// Model parameters\n",
    "int qMax;\n",
    "double mu,sigma,A,k,Gamma,b,T;\n",
    "  \n",
    "// number of time observations\n",
    "int n;\n",
    "// time step\n",
    "double dT = T/n;\n",
    "// store the value of the omega and delta at each time step and q value\n",
    "std::vector<MSC_PROJECTS::MVector> omega,delta;"
   ]
  },
  {
   "cell_type": "code",
   "execution_count": 5,
   "metadata": {},
   "outputs": [],
   "source": [
    "// can change any of these parameters and get the results\n",
    "qMax=6;\n",
    "mu=0.0;\n",
    "sigma=0.3;\n",
    "A = 0.1;\n",
    "k=0.3;\n",
    "Gamma = 0.05;\n",
    "b=3;\n",
    "T= 300;\n",
    "n=100;\n",
    "// time step\n",
    "dT = T/n;\n",
    "omega.clear();\n",
    "omega.resize(n+1,MSC_PROJECTS::MVector(qMax+1));\n",
    "delta.clear();\n",
    "delta.resize(n+1,MSC_PROJECTS::MVector(qMax+1));"
   ]
  },
  {
   "cell_type": "code",
   "execution_count": 6,
   "metadata": {},
   "outputs": [],
   "source": [
    "// initialise the solution at t=T\n",
    "  for(int q=0;q<=qMax;q++)\n",
    "  {\n",
    "    // from initial condition\n",
    "    omega[n][q] = exp(-k*q*b);\n",
    "    // from formula for delta\n",
    "    if(q>0)\n",
    "      delta[n][q] = 1/k*log(omega[n][q]/omega[n][q-1]) + 1/Gamma*log(1+Gamma/k);\n",
    "    else\n",
    "      delta[n][q] = 0.;\n",
    "  }"
   ]
  },
  {
   "cell_type": "code",
   "execution_count": 7,
   "metadata": {},
   "outputs": [],
   "source": [
    "// now use a numerical integration to find the value at T_i given the value at T_{i+1}\n",
    "  for(int i = n-1 ; i>=0 ; i--)\n",
    "  {\n",
    "    // some constants in the equation\n",
    "    double alpha = k/2.*Gamma*sigma*sigma;\n",
    "    double beta = k*mu;\n",
    "    double eta = A*pow(1+Gamma/k,-(1+k/Gamma));\n",
    "    // now solve \n",
    "    //   dw(q,t)/dt = (alpha q^2 - beta q) w(q,t) - eta w(q-1,t)\n",
    "    // with initial condition \n",
    "    //   w(q,T_i) = omega(q,T_i)\n",
    "    // so that\n",
    "    //   omega(q,T_{i-1}) = w(q,T_{i-1})\n",
    "    omega[i] = RK4MethodTemplate(100,i*dT,(i-1)*dT,omega[i+1],\n",
    "\t\t\t\t [&]\n",
    "\t\t\t\t (const  MSC_PROJECTS::MVector &w,double t)\n",
    "\t\t\t\t {\n",
    "\t\t\t\t   MSC_PROJECTS::MVector F(qMax+1);\n",
    "\t\t\t\t   F[0] = 0.;\n",
    "\t\t\t\t   for(int q=1;q<=qMax;q++)\n",
    "\t\t\t\t     F[q] = (alpha*q*q - beta*q)*w[q] - eta*w[q-1];\n",
    "\t\t\t\t   return F;\n",
    "\t\t\t\t }\n",
    "    );\n",
    "    \n",
    "    // We can then calculate the value of the optimal ask price\n",
    "    for(int q=1;q<=qMax;q++)\n",
    "      delta[i][q] = 1/k*log(omega[i][q]/omega[i][q-1]) + 1/Gamma*log(1+Gamma/k);\n",
    "    delta[i][0] = 0.;\n",
    "  }"
   ]
  },
  {
   "cell_type": "code",
   "execution_count": 8,
   "metadata": {},
   "outputs": [],
   "source": [
    "x.clear();\n",
    "x.resize(n+1);\n",
    "y.clear();\n",
    "y.resize(qMax,std::vector<double>(n+1));\n",
    "  for(int i = 0 ; i<=n ; i++)\n",
    "  {\n",
    "     x[i] = i*dT;\n",
    "     for(int q=1;q<=qMax;q++)\n",
    "      y[q-1][i] = delta[i][q];\n",
    "  }\n"
   ]
  },
  {
   "cell_type": "code",
   "execution_count": 9,
   "metadata": {},
   "outputs": [
    {
     "data": {
      "image/png": "[encoded data removed]"
     },
     "execution_count": 9,
     "metadata": {},
     "output_type": "execute_result"
    }
   ],
   "source": [
    "{\n",
    "    std::stringstream ss(\"set xlabel \\\"t\\\"\\n set ylabel \\\"delta\\\"\");\n",
    "    figure1 = G.plotData(x,y,&ss);\n",
    "}\n",
    "figure1"
   ]
  },
  {
   "cell_type": "code",
   "execution_count": null,
   "metadata": {},
   "outputs": [],
   "source": []
  }
 ],
 "metadata": {
  "kernelspec": {
   "display_name": "C++14",
   "language": "C++14",
   "name": "xeus-cling-cpp14"
  },
  "language_info": {
   "codemirror_mode": "text/x-c++src",
   "file_extension": ".cpp",
   "mimetype": "text/x-c++src",
   "name": "c++",
   "version": "14"
  }
 },
 "nbformat": 4,
 "nbformat_minor": 2
}
